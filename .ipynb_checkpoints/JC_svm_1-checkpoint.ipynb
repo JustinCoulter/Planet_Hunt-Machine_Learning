{
 "cells": [
  {
   "cell_type": "code",
   "execution_count": 54,
   "metadata": {},
   "outputs": [],
   "source": [
    "import pandas as pd\n",
    "import numpy as np"
   ]
  },
  {
   "cell_type": "markdown",
   "metadata": {},
   "source": [
    "# Read the CSV and Perform Basic Data Cleaning"
   ]
  },
  {
   "cell_type": "code",
   "execution_count": 2,
   "metadata": {},
   "outputs": [
    {
     "data": {
      "text/html": [
       "<div>\n",
       "<style scoped>\n",
       "    .dataframe tbody tr th:only-of-type {\n",
       "        vertical-align: middle;\n",
       "    }\n",
       "\n",
       "    .dataframe tbody tr th {\n",
       "        vertical-align: top;\n",
       "    }\n",
       "\n",
       "    .dataframe thead th {\n",
       "        text-align: right;\n",
       "    }\n",
       "</style>\n",
       "<table border=\"1\" class=\"dataframe\">\n",
       "  <thead>\n",
       "    <tr style=\"text-align: right;\">\n",
       "      <th></th>\n",
       "      <th>koi_disposition</th>\n",
       "      <th>koi_fpflag_nt</th>\n",
       "      <th>koi_fpflag_ss</th>\n",
       "      <th>koi_fpflag_co</th>\n",
       "      <th>koi_fpflag_ec</th>\n",
       "      <th>koi_period</th>\n",
       "      <th>koi_period_err1</th>\n",
       "      <th>koi_period_err2</th>\n",
       "      <th>koi_time0bk</th>\n",
       "      <th>koi_time0bk_err1</th>\n",
       "      <th>...</th>\n",
       "      <th>koi_steff_err2</th>\n",
       "      <th>koi_slogg</th>\n",
       "      <th>koi_slogg_err1</th>\n",
       "      <th>koi_slogg_err2</th>\n",
       "      <th>koi_srad</th>\n",
       "      <th>koi_srad_err1</th>\n",
       "      <th>koi_srad_err2</th>\n",
       "      <th>ra</th>\n",
       "      <th>dec</th>\n",
       "      <th>koi_kepmag</th>\n",
       "    </tr>\n",
       "  </thead>\n",
       "  <tbody>\n",
       "    <tr>\n",
       "      <th>0</th>\n",
       "      <td>CONFIRMED</td>\n",
       "      <td>0</td>\n",
       "      <td>0</td>\n",
       "      <td>0</td>\n",
       "      <td>0</td>\n",
       "      <td>9.488036</td>\n",
       "      <td>2.775000e-05</td>\n",
       "      <td>-2.775000e-05</td>\n",
       "      <td>170.538750</td>\n",
       "      <td>0.002160</td>\n",
       "      <td>...</td>\n",
       "      <td>-81.0</td>\n",
       "      <td>4.467</td>\n",
       "      <td>0.064</td>\n",
       "      <td>-0.096</td>\n",
       "      <td>0.927</td>\n",
       "      <td>0.105</td>\n",
       "      <td>-0.061</td>\n",
       "      <td>291.93423</td>\n",
       "      <td>48.141651</td>\n",
       "      <td>15.347</td>\n",
       "    </tr>\n",
       "    <tr>\n",
       "      <th>1</th>\n",
       "      <td>CONFIRMED</td>\n",
       "      <td>0</td>\n",
       "      <td>0</td>\n",
       "      <td>0</td>\n",
       "      <td>0</td>\n",
       "      <td>54.418383</td>\n",
       "      <td>2.479000e-04</td>\n",
       "      <td>-2.479000e-04</td>\n",
       "      <td>162.513840</td>\n",
       "      <td>0.003520</td>\n",
       "      <td>...</td>\n",
       "      <td>-81.0</td>\n",
       "      <td>4.467</td>\n",
       "      <td>0.064</td>\n",
       "      <td>-0.096</td>\n",
       "      <td>0.927</td>\n",
       "      <td>0.105</td>\n",
       "      <td>-0.061</td>\n",
       "      <td>291.93423</td>\n",
       "      <td>48.141651</td>\n",
       "      <td>15.347</td>\n",
       "    </tr>\n",
       "    <tr>\n",
       "      <th>2</th>\n",
       "      <td>FALSE POSITIVE</td>\n",
       "      <td>0</td>\n",
       "      <td>1</td>\n",
       "      <td>0</td>\n",
       "      <td>0</td>\n",
       "      <td>19.899140</td>\n",
       "      <td>1.494000e-05</td>\n",
       "      <td>-1.494000e-05</td>\n",
       "      <td>175.850252</td>\n",
       "      <td>0.000581</td>\n",
       "      <td>...</td>\n",
       "      <td>-176.0</td>\n",
       "      <td>4.544</td>\n",
       "      <td>0.044</td>\n",
       "      <td>-0.176</td>\n",
       "      <td>0.868</td>\n",
       "      <td>0.233</td>\n",
       "      <td>-0.078</td>\n",
       "      <td>297.00482</td>\n",
       "      <td>48.134129</td>\n",
       "      <td>15.436</td>\n",
       "    </tr>\n",
       "    <tr>\n",
       "      <th>3</th>\n",
       "      <td>FALSE POSITIVE</td>\n",
       "      <td>0</td>\n",
       "      <td>1</td>\n",
       "      <td>0</td>\n",
       "      <td>0</td>\n",
       "      <td>1.736952</td>\n",
       "      <td>2.630000e-07</td>\n",
       "      <td>-2.630000e-07</td>\n",
       "      <td>170.307565</td>\n",
       "      <td>0.000115</td>\n",
       "      <td>...</td>\n",
       "      <td>-174.0</td>\n",
       "      <td>4.564</td>\n",
       "      <td>0.053</td>\n",
       "      <td>-0.168</td>\n",
       "      <td>0.791</td>\n",
       "      <td>0.201</td>\n",
       "      <td>-0.067</td>\n",
       "      <td>285.53461</td>\n",
       "      <td>48.285210</td>\n",
       "      <td>15.597</td>\n",
       "    </tr>\n",
       "    <tr>\n",
       "      <th>4</th>\n",
       "      <td>CONFIRMED</td>\n",
       "      <td>0</td>\n",
       "      <td>0</td>\n",
       "      <td>0</td>\n",
       "      <td>0</td>\n",
       "      <td>2.525592</td>\n",
       "      <td>3.761000e-06</td>\n",
       "      <td>-3.761000e-06</td>\n",
       "      <td>171.595550</td>\n",
       "      <td>0.001130</td>\n",
       "      <td>...</td>\n",
       "      <td>-211.0</td>\n",
       "      <td>4.438</td>\n",
       "      <td>0.070</td>\n",
       "      <td>-0.210</td>\n",
       "      <td>1.046</td>\n",
       "      <td>0.334</td>\n",
       "      <td>-0.133</td>\n",
       "      <td>288.75488</td>\n",
       "      <td>48.226200</td>\n",
       "      <td>15.509</td>\n",
       "    </tr>\n",
       "  </tbody>\n",
       "</table>\n",
       "<p>5 rows × 41 columns</p>\n",
       "</div>"
      ],
      "text/plain": [
       "  koi_disposition  koi_fpflag_nt  koi_fpflag_ss  koi_fpflag_co  koi_fpflag_ec  \\\n",
       "0       CONFIRMED              0              0              0              0   \n",
       "1       CONFIRMED              0              0              0              0   \n",
       "2  FALSE POSITIVE              0              1              0              0   \n",
       "3  FALSE POSITIVE              0              1              0              0   \n",
       "4       CONFIRMED              0              0              0              0   \n",
       "\n",
       "   koi_period  koi_period_err1  koi_period_err2  koi_time0bk  \\\n",
       "0    9.488036     2.775000e-05    -2.775000e-05   170.538750   \n",
       "1   54.418383     2.479000e-04    -2.479000e-04   162.513840   \n",
       "2   19.899140     1.494000e-05    -1.494000e-05   175.850252   \n",
       "3    1.736952     2.630000e-07    -2.630000e-07   170.307565   \n",
       "4    2.525592     3.761000e-06    -3.761000e-06   171.595550   \n",
       "\n",
       "   koi_time0bk_err1     ...      koi_steff_err2  koi_slogg  koi_slogg_err1  \\\n",
       "0          0.002160     ...               -81.0      4.467           0.064   \n",
       "1          0.003520     ...               -81.0      4.467           0.064   \n",
       "2          0.000581     ...              -176.0      4.544           0.044   \n",
       "3          0.000115     ...              -174.0      4.564           0.053   \n",
       "4          0.001130     ...              -211.0      4.438           0.070   \n",
       "\n",
       "   koi_slogg_err2  koi_srad  koi_srad_err1  koi_srad_err2         ra  \\\n",
       "0          -0.096     0.927          0.105         -0.061  291.93423   \n",
       "1          -0.096     0.927          0.105         -0.061  291.93423   \n",
       "2          -0.176     0.868          0.233         -0.078  297.00482   \n",
       "3          -0.168     0.791          0.201         -0.067  285.53461   \n",
       "4          -0.210     1.046          0.334         -0.133  288.75488   \n",
       "\n",
       "         dec  koi_kepmag  \n",
       "0  48.141651      15.347  \n",
       "1  48.141651      15.347  \n",
       "2  48.134129      15.436  \n",
       "3  48.285210      15.597  \n",
       "4  48.226200      15.509  \n",
       "\n",
       "[5 rows x 41 columns]"
      ]
     },
     "execution_count": 2,
     "metadata": {},
     "output_type": "execute_result"
    }
   ],
   "source": [
    "df = pd.read_csv(\"cumulative.csv\")\n",
    "df = df.drop(columns=[\"rowid\", \"kepid\", \"kepoi_name\", \"kepler_name\", \"koi_pdisposition\", \"koi_score\", \"koi_tce_delivname\"])\n",
    "# Drop the null columns where all values are null\n",
    "df = df.dropna(axis='columns', how='all')\n",
    "# Drop the null rows\n",
    "df = df.dropna()\n",
    "df.head()\n"
   ]
  },
  {
   "cell_type": "code",
   "execution_count": 3,
   "metadata": {},
   "outputs": [
    {
     "data": {
      "text/plain": [
       "array(['CONFIRMED', 'FALSE POSITIVE', 'CANDIDATE'], dtype=object)"
      ]
     },
     "execution_count": 3,
     "metadata": {},
     "output_type": "execute_result"
    }
   ],
   "source": [
    "df.koi_disposition.unique()"
   ]
  },
  {
   "cell_type": "markdown",
   "metadata": {},
   "source": [
    "# Create a Train Test Split\n",
    "\n",
    "Use `koi_disposition` for the y values"
   ]
  },
  {
   "cell_type": "code",
   "execution_count": 4,
   "metadata": {},
   "outputs": [
    {
     "name": "stdout",
     "output_type": "stream",
     "text": [
      "(8744, 40) (8744,)\n"
     ]
    }
   ],
   "source": [
    "# Assign X (data) and y (target)\n",
    "X = df.drop(\"koi_disposition\", axis=1)\n",
    "y = df[\"koi_disposition\"]\n",
    "print(X.shape, y.shape)"
   ]
  },
  {
   "cell_type": "code",
   "execution_count": 5,
   "metadata": {},
   "outputs": [],
   "source": [
    "from sklearn.model_selection import train_test_split\n",
    "\n",
    "X_train, X_test, y_train, y_test = train_test_split(X, y, random_state=1, stratify=y)"
   ]
  },
  {
   "cell_type": "code",
   "execution_count": 6,
   "metadata": {},
   "outputs": [
    {
     "data": {
      "text/html": [
       "<div>\n",
       "<style scoped>\n",
       "    .dataframe tbody tr th:only-of-type {\n",
       "        vertical-align: middle;\n",
       "    }\n",
       "\n",
       "    .dataframe tbody tr th {\n",
       "        vertical-align: top;\n",
       "    }\n",
       "\n",
       "    .dataframe thead th {\n",
       "        text-align: right;\n",
       "    }\n",
       "</style>\n",
       "<table border=\"1\" class=\"dataframe\">\n",
       "  <thead>\n",
       "    <tr style=\"text-align: right;\">\n",
       "      <th></th>\n",
       "      <th>koi_fpflag_nt</th>\n",
       "      <th>koi_fpflag_ss</th>\n",
       "      <th>koi_fpflag_co</th>\n",
       "      <th>koi_fpflag_ec</th>\n",
       "      <th>koi_period</th>\n",
       "      <th>koi_period_err1</th>\n",
       "      <th>koi_period_err2</th>\n",
       "      <th>koi_time0bk</th>\n",
       "      <th>koi_time0bk_err1</th>\n",
       "      <th>koi_time0bk_err2</th>\n",
       "      <th>...</th>\n",
       "      <th>koi_steff_err2</th>\n",
       "      <th>koi_slogg</th>\n",
       "      <th>koi_slogg_err1</th>\n",
       "      <th>koi_slogg_err2</th>\n",
       "      <th>koi_srad</th>\n",
       "      <th>koi_srad_err1</th>\n",
       "      <th>koi_srad_err2</th>\n",
       "      <th>ra</th>\n",
       "      <th>dec</th>\n",
       "      <th>koi_kepmag</th>\n",
       "    </tr>\n",
       "  </thead>\n",
       "  <tbody>\n",
       "    <tr>\n",
       "      <th>5964</th>\n",
       "      <td>1</td>\n",
       "      <td>0</td>\n",
       "      <td>0</td>\n",
       "      <td>0</td>\n",
       "      <td>252.044440</td>\n",
       "      <td>0.027490</td>\n",
       "      <td>-0.027490</td>\n",
       "      <td>265.2010</td>\n",
       "      <td>0.0494</td>\n",
       "      <td>-0.0494</td>\n",
       "      <td>...</td>\n",
       "      <td>-136.0</td>\n",
       "      <td>4.621</td>\n",
       "      <td>0.041</td>\n",
       "      <td>-0.035</td>\n",
       "      <td>0.664</td>\n",
       "      <td>0.057</td>\n",
       "      <td>-0.059</td>\n",
       "      <td>292.79022</td>\n",
       "      <td>41.948639</td>\n",
       "      <td>15.884</td>\n",
       "    </tr>\n",
       "    <tr>\n",
       "      <th>9410</th>\n",
       "      <td>1</td>\n",
       "      <td>0</td>\n",
       "      <td>0</td>\n",
       "      <td>0</td>\n",
       "      <td>371.518520</td>\n",
       "      <td>0.015790</td>\n",
       "      <td>-0.015790</td>\n",
       "      <td>317.6836</td>\n",
       "      <td>0.0339</td>\n",
       "      <td>-0.0339</td>\n",
       "      <td>...</td>\n",
       "      <td>-206.0</td>\n",
       "      <td>4.377</td>\n",
       "      <td>0.101</td>\n",
       "      <td>-0.203</td>\n",
       "      <td>1.089</td>\n",
       "      <td>0.364</td>\n",
       "      <td>-0.145</td>\n",
       "      <td>293.06400</td>\n",
       "      <td>45.034210</td>\n",
       "      <td>13.731</td>\n",
       "    </tr>\n",
       "    <tr>\n",
       "      <th>4204</th>\n",
       "      <td>0</td>\n",
       "      <td>0</td>\n",
       "      <td>1</td>\n",
       "      <td>0</td>\n",
       "      <td>8.038670</td>\n",
       "      <td>0.000114</td>\n",
       "      <td>-0.000114</td>\n",
       "      <td>135.3098</td>\n",
       "      <td>0.0123</td>\n",
       "      <td>-0.0123</td>\n",
       "      <td>...</td>\n",
       "      <td>-181.0</td>\n",
       "      <td>4.485</td>\n",
       "      <td>0.050</td>\n",
       "      <td>-0.200</td>\n",
       "      <td>0.975</td>\n",
       "      <td>0.282</td>\n",
       "      <td>-0.101</td>\n",
       "      <td>290.51785</td>\n",
       "      <td>41.238762</td>\n",
       "      <td>14.999</td>\n",
       "    </tr>\n",
       "    <tr>\n",
       "      <th>5933</th>\n",
       "      <td>0</td>\n",
       "      <td>0</td>\n",
       "      <td>0</td>\n",
       "      <td>0</td>\n",
       "      <td>18.782160</td>\n",
       "      <td>0.000406</td>\n",
       "      <td>-0.000406</td>\n",
       "      <td>147.8508</td>\n",
       "      <td>0.0148</td>\n",
       "      <td>-0.0148</td>\n",
       "      <td>...</td>\n",
       "      <td>-167.0</td>\n",
       "      <td>4.488</td>\n",
       "      <td>0.048</td>\n",
       "      <td>-0.290</td>\n",
       "      <td>0.940</td>\n",
       "      <td>0.386</td>\n",
       "      <td>-0.087</td>\n",
       "      <td>291.76413</td>\n",
       "      <td>41.860130</td>\n",
       "      <td>14.043</td>\n",
       "    </tr>\n",
       "    <tr>\n",
       "      <th>6996</th>\n",
       "      <td>1</td>\n",
       "      <td>0</td>\n",
       "      <td>1</td>\n",
       "      <td>0</td>\n",
       "      <td>12.429716</td>\n",
       "      <td>0.000472</td>\n",
       "      <td>-0.000472</td>\n",
       "      <td>141.2846</td>\n",
       "      <td>0.0420</td>\n",
       "      <td>-0.0420</td>\n",
       "      <td>...</td>\n",
       "      <td>-200.0</td>\n",
       "      <td>4.534</td>\n",
       "      <td>0.037</td>\n",
       "      <td>-0.213</td>\n",
       "      <td>0.905</td>\n",
       "      <td>0.281</td>\n",
       "      <td>-0.088</td>\n",
       "      <td>297.52072</td>\n",
       "      <td>40.585419</td>\n",
       "      <td>15.842</td>\n",
       "    </tr>\n",
       "  </tbody>\n",
       "</table>\n",
       "<p>5 rows × 40 columns</p>\n",
       "</div>"
      ],
      "text/plain": [
       "      koi_fpflag_nt  koi_fpflag_ss  koi_fpflag_co  koi_fpflag_ec  koi_period  \\\n",
       "5964              1              0              0              0  252.044440   \n",
       "9410              1              0              0              0  371.518520   \n",
       "4204              0              0              1              0    8.038670   \n",
       "5933              0              0              0              0   18.782160   \n",
       "6996              1              0              1              0   12.429716   \n",
       "\n",
       "      koi_period_err1  koi_period_err2  koi_time0bk  koi_time0bk_err1  \\\n",
       "5964         0.027490        -0.027490     265.2010            0.0494   \n",
       "9410         0.015790        -0.015790     317.6836            0.0339   \n",
       "4204         0.000114        -0.000114     135.3098            0.0123   \n",
       "5933         0.000406        -0.000406     147.8508            0.0148   \n",
       "6996         0.000472        -0.000472     141.2846            0.0420   \n",
       "\n",
       "      koi_time0bk_err2     ...      koi_steff_err2  koi_slogg  koi_slogg_err1  \\\n",
       "5964           -0.0494     ...              -136.0      4.621           0.041   \n",
       "9410           -0.0339     ...              -206.0      4.377           0.101   \n",
       "4204           -0.0123     ...              -181.0      4.485           0.050   \n",
       "5933           -0.0148     ...              -167.0      4.488           0.048   \n",
       "6996           -0.0420     ...              -200.0      4.534           0.037   \n",
       "\n",
       "      koi_slogg_err2  koi_srad  koi_srad_err1  koi_srad_err2         ra  \\\n",
       "5964          -0.035     0.664          0.057         -0.059  292.79022   \n",
       "9410          -0.203     1.089          0.364         -0.145  293.06400   \n",
       "4204          -0.200     0.975          0.282         -0.101  290.51785   \n",
       "5933          -0.290     0.940          0.386         -0.087  291.76413   \n",
       "6996          -0.213     0.905          0.281         -0.088  297.52072   \n",
       "\n",
       "            dec  koi_kepmag  \n",
       "5964  41.948639      15.884  \n",
       "9410  45.034210      13.731  \n",
       "4204  41.238762      14.999  \n",
       "5933  41.860130      14.043  \n",
       "6996  40.585419      15.842  \n",
       "\n",
       "[5 rows x 40 columns]"
      ]
     },
     "execution_count": 6,
     "metadata": {},
     "output_type": "execute_result"
    }
   ],
   "source": [
    "X_train.head()"
   ]
  },
  {
   "cell_type": "markdown",
   "metadata": {},
   "source": [
    "# Pre-processing\n",
    "\n",
    "Scale the data using the MinMaxScaler"
   ]
  },
  {
   "cell_type": "code",
   "execution_count": 7,
   "metadata": {},
   "outputs": [
    {
     "name": "stderr",
     "output_type": "stream",
     "text": [
      "/anaconda3/envs/python_data/lib/python3.6/site-packages/sklearn/preprocessing/data.py:323: DataConversionWarning: Data with input dtype int64, float64 were all converted to float64 by MinMaxScaler.\n",
      "  return self.partial_fit(X, y)\n"
     ]
    },
    {
     "data": {
      "text/plain": [
       "MinMaxScaler(copy=True, feature_range=(0, 1))"
      ]
     },
     "execution_count": 7,
     "metadata": {},
     "output_type": "execute_result"
    }
   ],
   "source": [
    "from sklearn.preprocessing import MinMaxScaler\n",
    "X_scaler = MinMaxScaler().fit(X_train)\n",
    "X_scaler\n",
    "# data = [[X_train,y_train]]\n",
    "# scaler = MinMaxScaler()\n",
    "# print(scaler.fit(data))"
   ]
  },
  {
   "cell_type": "code",
   "execution_count": null,
   "metadata": {},
   "outputs": [],
   "source": []
  },
  {
   "cell_type": "code",
   "execution_count": 8,
   "metadata": {},
   "outputs": [],
   "source": [
    "X_train_scaled = X_scaler.transform(X_train)\n",
    "X_test_scaled = X_scaler.transform(X_test)\n"
   ]
  },
  {
   "cell_type": "markdown",
   "metadata": {},
   "source": [
    "# Train the Support Vector Machine"
   ]
  },
  {
   "cell_type": "code",
   "execution_count": 9,
   "metadata": {},
   "outputs": [
    {
     "data": {
      "text/plain": [
       "SVC(C=1.0, cache_size=200, class_weight=None, coef0=0.0,\n",
       "  decision_function_shape='ovr', degree=3, gamma='auto_deprecated',\n",
       "  kernel='linear', max_iter=-1, probability=False, random_state=1,\n",
       "  shrinking=True, tol=0.001, verbose=False)"
      ]
     },
     "execution_count": 9,
     "metadata": {},
     "output_type": "execute_result"
    }
   ],
   "source": [
    "# Support vector machine linear classifier\n",
    "from sklearn.svm import SVC \n",
    "model = SVC(kernel='linear', random_state=1)\n",
    "model.fit(X_train_scaled, y_train)"
   ]
  },
  {
   "cell_type": "code",
   "execution_count": null,
   "metadata": {},
   "outputs": [],
   "source": []
  },
  {
   "cell_type": "code",
   "execution_count": 10,
   "metadata": {},
   "outputs": [
    {
     "name": "stdout",
     "output_type": "stream",
     "text": [
      "Training Data Score: 0.8479719426654467\n",
      "Testing Data Score: 0.8462946020128088\n"
     ]
    }
   ],
   "source": [
    "print(f\"Training Data Score: {model.score(X_train_scaled, y_train)}\")\n",
    "print(f\"Testing Data Score: {model.score(X_test_scaled, y_test)}\")"
   ]
  },
  {
   "cell_type": "markdown",
   "metadata": {},
   "source": [
    "# Hyperparameter Tuning\n",
    "\n",
    "Use `GridSearchCV` to tune the `C` and `gamma` parameters"
   ]
  },
  {
   "cell_type": "code",
   "execution_count": 11,
   "metadata": {},
   "outputs": [],
   "source": [
    "# Create the GridSearchCV model\n",
    "# Create the GridSearch estimator along with a parameter object containing the values to adjust\n",
    "from sklearn.model_selection import GridSearchCV\n",
    "param_grid = {'C': [1, 5, 10, 50],\n",
    "              'gamma': [0.0001, 0.0005, 0.001, 0.005]}\n",
    "grid = GridSearchCV(model, param_grid, verbose=3)"
   ]
  },
  {
   "cell_type": "code",
   "execution_count": 12,
   "metadata": {},
   "outputs": [
    {
     "data": {
      "text/plain": [
       "dict_keys(['C', 'cache_size', 'class_weight', 'coef0', 'decision_function_shape', 'degree', 'gamma', 'kernel', 'max_iter', 'probability', 'random_state', 'shrinking', 'tol', 'verbose'])"
      ]
     },
     "execution_count": 12,
     "metadata": {},
     "output_type": "execute_result"
    }
   ],
   "source": [
    "grid.estimator.get_params().keys()"
   ]
  },
  {
   "cell_type": "code",
   "execution_count": 13,
   "metadata": {},
   "outputs": [
    {
     "name": "stderr",
     "output_type": "stream",
     "text": [
      "/anaconda3/envs/python_data/lib/python3.6/site-packages/sklearn/model_selection/_split.py:2053: FutureWarning: You should specify a value for 'cv' instead of relying on the default value. The default value will change from 3 to 5 in version 0.22.\n",
      "  warnings.warn(CV_WARNING, FutureWarning)\n",
      "[Parallel(n_jobs=1)]: Using backend SequentialBackend with 1 concurrent workers.\n"
     ]
    },
    {
     "name": "stdout",
     "output_type": "stream",
     "text": [
      "Fitting 3 folds for each of 16 candidates, totalling 48 fits\n",
      "[CV] C=1, gamma=0.0001 ...............................................\n",
      "[CV] ...... C=1, gamma=0.0001, score=0.8399634202103338, total=   0.5s\n",
      "[CV] C=1, gamma=0.0001 ...............................................\n"
     ]
    },
    {
     "name": "stderr",
     "output_type": "stream",
     "text": [
      "[Parallel(n_jobs=1)]: Done   1 out of   1 | elapsed:    0.7s remaining:    0.0s\n"
     ]
    },
    {
     "name": "stdout",
     "output_type": "stream",
     "text": [
      "[CV] ...... C=1, gamma=0.0001, score=0.8508691674290942, total=   0.4s\n",
      "[CV] C=1, gamma=0.0001 ...............................................\n"
     ]
    },
    {
     "name": "stderr",
     "output_type": "stream",
     "text": [
      "[Parallel(n_jobs=1)]: Done   2 out of   2 | elapsed:    1.4s remaining:    0.0s\n"
     ]
    },
    {
     "name": "stdout",
     "output_type": "stream",
     "text": [
      "[CV] ...... C=1, gamma=0.0001, score=0.8361556064073227, total=   0.4s\n",
      "[CV] C=1, gamma=0.0005 ...............................................\n",
      "[CV] ...... C=1, gamma=0.0005, score=0.8399634202103338, total=   0.4s\n",
      "[CV] C=1, gamma=0.0005 ...............................................\n",
      "[CV] ...... C=1, gamma=0.0005, score=0.8508691674290942, total=   0.4s\n",
      "[CV] C=1, gamma=0.0005 ...............................................\n",
      "[CV] ...... C=1, gamma=0.0005, score=0.8361556064073227, total=   0.4s\n",
      "[CV] C=1, gamma=0.001 ................................................\n",
      "[CV] ....... C=1, gamma=0.001, score=0.8399634202103338, total=   0.4s\n",
      "[CV] C=1, gamma=0.001 ................................................\n",
      "[CV] ....... C=1, gamma=0.001, score=0.8508691674290942, total=   0.4s\n",
      "[CV] C=1, gamma=0.001 ................................................\n",
      "[CV] ....... C=1, gamma=0.001, score=0.8361556064073227, total=   0.4s\n",
      "[CV] C=1, gamma=0.005 ................................................\n",
      "[CV] ....... C=1, gamma=0.005, score=0.8399634202103338, total=   0.4s\n",
      "[CV] C=1, gamma=0.005 ................................................\n",
      "[CV] ....... C=1, gamma=0.005, score=0.8508691674290942, total=   0.4s\n",
      "[CV] C=1, gamma=0.005 ................................................\n",
      "[CV] ....... C=1, gamma=0.005, score=0.8361556064073227, total=   0.4s\n",
      "[CV] C=5, gamma=0.0001 ...............................................\n",
      "[CV] ...... C=5, gamma=0.0001, score=0.8582533150434385, total=   0.4s\n",
      "[CV] C=5, gamma=0.0001 ...............................................\n",
      "[CV] ....... C=5, gamma=0.0001, score=0.869167429094236, total=   0.4s\n",
      "[CV] C=5, gamma=0.0001 ...............................................\n",
      "[CV] ...... C=5, gamma=0.0001, score=0.8617848970251716, total=   0.4s\n",
      "[CV] C=5, gamma=0.0005 ...............................................\n",
      "[CV] ...... C=5, gamma=0.0005, score=0.8582533150434385, total=   0.4s\n",
      "[CV] C=5, gamma=0.0005 ...............................................\n",
      "[CV] ....... C=5, gamma=0.0005, score=0.869167429094236, total=   0.4s\n",
      "[CV] C=5, gamma=0.0005 ...............................................\n",
      "[CV] ...... C=5, gamma=0.0005, score=0.8617848970251716, total=   0.4s\n",
      "[CV] C=5, gamma=0.001 ................................................\n",
      "[CV] ....... C=5, gamma=0.001, score=0.8582533150434385, total=   0.4s\n",
      "[CV] C=5, gamma=0.001 ................................................\n",
      "[CV] ........ C=5, gamma=0.001, score=0.869167429094236, total=   0.4s\n",
      "[CV] C=5, gamma=0.001 ................................................\n",
      "[CV] ....... C=5, gamma=0.001, score=0.8617848970251716, total=   0.4s\n",
      "[CV] C=5, gamma=0.005 ................................................\n",
      "[CV] ....... C=5, gamma=0.005, score=0.8582533150434385, total=   0.4s\n",
      "[CV] C=5, gamma=0.005 ................................................\n",
      "[CV] ........ C=5, gamma=0.005, score=0.869167429094236, total=   0.4s\n",
      "[CV] C=5, gamma=0.005 ................................................\n",
      "[CV] ....... C=5, gamma=0.005, score=0.8617848970251716, total=   0.4s\n",
      "[CV] C=10, gamma=0.0001 ..............................................\n",
      "[CV] ..... C=10, gamma=0.0001, score=0.8651120256058528, total=   0.5s\n",
      "[CV] C=10, gamma=0.0001 ..............................................\n",
      "[CV] ..... C=10, gamma=0.0001, score=0.8746569075937786, total=   0.4s\n",
      "[CV] C=10, gamma=0.0001 ..............................................\n",
      "[CV] ..... C=10, gamma=0.0001, score=0.8672768878718535, total=   0.4s\n",
      "[CV] C=10, gamma=0.0005 ..............................................\n",
      "[CV] ..... C=10, gamma=0.0005, score=0.8651120256058528, total=   0.5s\n",
      "[CV] C=10, gamma=0.0005 ..............................................\n",
      "[CV] ..... C=10, gamma=0.0005, score=0.8746569075937786, total=   0.4s\n",
      "[CV] C=10, gamma=0.0005 ..............................................\n",
      "[CV] ..... C=10, gamma=0.0005, score=0.8672768878718535, total=   0.4s\n",
      "[CV] C=10, gamma=0.001 ...............................................\n",
      "[CV] ...... C=10, gamma=0.001, score=0.8651120256058528, total=   0.5s\n",
      "[CV] C=10, gamma=0.001 ...............................................\n",
      "[CV] ...... C=10, gamma=0.001, score=0.8746569075937786, total=   0.4s\n",
      "[CV] C=10, gamma=0.001 ...............................................\n",
      "[CV] ...... C=10, gamma=0.001, score=0.8672768878718535, total=   0.4s\n",
      "[CV] C=10, gamma=0.005 ...............................................\n",
      "[CV] ...... C=10, gamma=0.005, score=0.8651120256058528, total=   0.5s\n",
      "[CV] C=10, gamma=0.005 ...............................................\n",
      "[CV] ...... C=10, gamma=0.005, score=0.8746569075937786, total=   0.4s\n",
      "[CV] C=10, gamma=0.005 ...............................................\n",
      "[CV] ...... C=10, gamma=0.005, score=0.8672768878718535, total=   0.4s\n",
      "[CV] C=50, gamma=0.0001 ..............................................\n",
      "[CV] ..... C=50, gamma=0.0001, score=0.8760859625057156, total=   0.6s\n",
      "[CV] C=50, gamma=0.0001 ..............................................\n",
      "[CV] ..... C=50, gamma=0.0001, score=0.8856358645928637, total=   0.6s\n",
      "[CV] C=50, gamma=0.0001 ..............................................\n",
      "[CV] ..... C=50, gamma=0.0001, score=0.8814645308924485, total=   0.6s\n",
      "[CV] C=50, gamma=0.0005 ..............................................\n",
      "[CV] ..... C=50, gamma=0.0005, score=0.8760859625057156, total=   0.6s\n",
      "[CV] C=50, gamma=0.0005 ..............................................\n",
      "[CV] ..... C=50, gamma=0.0005, score=0.8856358645928637, total=   0.5s\n",
      "[CV] C=50, gamma=0.0005 ..............................................\n",
      "[CV] ..... C=50, gamma=0.0005, score=0.8814645308924485, total=   0.6s\n",
      "[CV] C=50, gamma=0.001 ...............................................\n",
      "[CV] ...... C=50, gamma=0.001, score=0.8760859625057156, total=   0.6s\n",
      "[CV] C=50, gamma=0.001 ...............................................\n",
      "[CV] ...... C=50, gamma=0.001, score=0.8856358645928637, total=   0.5s\n",
      "[CV] C=50, gamma=0.001 ...............................................\n",
      "[CV] ...... C=50, gamma=0.001, score=0.8814645308924485, total=   0.6s\n",
      "[CV] C=50, gamma=0.005 ...............................................\n",
      "[CV] ...... C=50, gamma=0.005, score=0.8760859625057156, total=   0.6s\n",
      "[CV] C=50, gamma=0.005 ...............................................\n",
      "[CV] ...... C=50, gamma=0.005, score=0.8856358645928637, total=   0.5s\n",
      "[CV] C=50, gamma=0.005 ...............................................\n",
      "[CV] ...... C=50, gamma=0.005, score=0.8814645308924485, total=   0.6s\n"
     ]
    },
    {
     "name": "stderr",
     "output_type": "stream",
     "text": [
      "[Parallel(n_jobs=1)]: Done  48 out of  48 | elapsed:   33.7s finished\n"
     ]
    },
    {
     "data": {
      "text/plain": [
       "GridSearchCV(cv='warn', error_score='raise-deprecating',\n",
       "       estimator=SVC(C=1.0, cache_size=200, class_weight=None, coef0=0.0,\n",
       "  decision_function_shape='ovr', degree=3, gamma='auto_deprecated',\n",
       "  kernel='linear', max_iter=-1, probability=False, random_state=1,\n",
       "  shrinking=True, tol=0.001, verbose=False),\n",
       "       fit_params=None, iid='warn', n_jobs=None,\n",
       "       param_grid={'C': [1, 5, 10, 50], 'gamma': [0.0001, 0.0005, 0.001, 0.005]},\n",
       "       pre_dispatch='2*n_jobs', refit=True, return_train_score='warn',\n",
       "       scoring=None, verbose=3)"
      ]
     },
     "execution_count": 13,
     "metadata": {},
     "output_type": "execute_result"
    }
   ],
   "source": [
    "# Train the model with GridSearch\n",
    "grid.fit(X_train_scaled, y_train)"
   ]
  },
  {
   "cell_type": "code",
   "execution_count": 14,
   "metadata": {},
   "outputs": [
    {
     "name": "stdout",
     "output_type": "stream",
     "text": [
      "{'C': 50, 'gamma': 0.0001}\n",
      "0.8810612991765783\n"
     ]
    }
   ],
   "source": [
    "print(grid.best_params_)\n",
    "print(grid.best_score_)"
   ]
  },
  {
   "cell_type": "code",
   "execution_count": 15,
   "metadata": {},
   "outputs": [],
   "source": [
    "# Make predictions with the hypertuned model\n",
    "predictions = grid.predict(X_test_scaled)"
   ]
  },
  {
   "cell_type": "code",
   "execution_count": 16,
   "metadata": {},
   "outputs": [
    {
     "name": "stdout",
     "output_type": "stream",
     "text": [
      "                precision    recall  f1-score   support\n",
      "\n",
      "     CONFIRMED       0.84      0.69      0.76       528\n",
      "FALSE POSITIVE       0.75      0.85      0.80       568\n",
      "     CANDIDATE       0.98      1.00      0.99      1090\n",
      "\n",
      "     micro avg       0.89      0.89      0.89      2186\n",
      "     macro avg       0.86      0.85      0.85      2186\n",
      "  weighted avg       0.89      0.89      0.88      2186\n",
      "\n"
     ]
    }
   ],
   "source": [
    "# Calculate classification report\n",
    "from sklearn.metrics import classification_report\n",
    "print(classification_report(y_test, predictions,\n",
    "                            target_names=['CONFIRMED', 'FALSE POSITIVE', 'CANDIDATE']))"
   ]
  },
  {
   "cell_type": "code",
   "execution_count": 17,
   "metadata": {},
   "outputs": [
    {
     "data": {
      "text/html": [
       "<div>\n",
       "<style scoped>\n",
       "    .dataframe tbody tr th:only-of-type {\n",
       "        vertical-align: middle;\n",
       "    }\n",
       "\n",
       "    .dataframe tbody tr th {\n",
       "        vertical-align: top;\n",
       "    }\n",
       "\n",
       "    .dataframe thead th {\n",
       "        text-align: right;\n",
       "    }\n",
       "</style>\n",
       "<table border=\"1\" class=\"dataframe\">\n",
       "  <thead>\n",
       "    <tr style=\"text-align: right;\">\n",
       "      <th></th>\n",
       "      <th>Prediction</th>\n",
       "      <th>Actual</th>\n",
       "    </tr>\n",
       "  </thead>\n",
       "  <tbody>\n",
       "    <tr>\n",
       "      <th>7217</th>\n",
       "      <td>FALSE POSITIVE</td>\n",
       "      <td>FALSE POSITIVE</td>\n",
       "    </tr>\n",
       "    <tr>\n",
       "      <th>873</th>\n",
       "      <td>CONFIRMED</td>\n",
       "      <td>CANDIDATE</td>\n",
       "    </tr>\n",
       "    <tr>\n",
       "      <th>189</th>\n",
       "      <td>CONFIRMED</td>\n",
       "      <td>CONFIRMED</td>\n",
       "    </tr>\n",
       "    <tr>\n",
       "      <th>6744</th>\n",
       "      <td>CANDIDATE</td>\n",
       "      <td>CANDIDATE</td>\n",
       "    </tr>\n",
       "    <tr>\n",
       "      <th>9220</th>\n",
       "      <td>CONFIRMED</td>\n",
       "      <td>CANDIDATE</td>\n",
       "    </tr>\n",
       "    <tr>\n",
       "      <th>2554</th>\n",
       "      <td>FALSE POSITIVE</td>\n",
       "      <td>FALSE POSITIVE</td>\n",
       "    </tr>\n",
       "    <tr>\n",
       "      <th>8706</th>\n",
       "      <td>FALSE POSITIVE</td>\n",
       "      <td>FALSE POSITIVE</td>\n",
       "    </tr>\n",
       "    <tr>\n",
       "      <th>2734</th>\n",
       "      <td>FALSE POSITIVE</td>\n",
       "      <td>FALSE POSITIVE</td>\n",
       "    </tr>\n",
       "    <tr>\n",
       "      <th>5685</th>\n",
       "      <td>FALSE POSITIVE</td>\n",
       "      <td>FALSE POSITIVE</td>\n",
       "    </tr>\n",
       "    <tr>\n",
       "      <th>8878</th>\n",
       "      <td>FALSE POSITIVE</td>\n",
       "      <td>FALSE POSITIVE</td>\n",
       "    </tr>\n",
       "  </tbody>\n",
       "</table>\n",
       "</div>"
      ],
      "text/plain": [
       "          Prediction          Actual\n",
       "7217  FALSE POSITIVE  FALSE POSITIVE\n",
       "873        CONFIRMED       CANDIDATE\n",
       "189        CONFIRMED       CONFIRMED\n",
       "6744       CANDIDATE       CANDIDATE\n",
       "9220       CONFIRMED       CANDIDATE\n",
       "2554  FALSE POSITIVE  FALSE POSITIVE\n",
       "8706  FALSE POSITIVE  FALSE POSITIVE\n",
       "2734  FALSE POSITIVE  FALSE POSITIVE\n",
       "5685  FALSE POSITIVE  FALSE POSITIVE\n",
       "8878  FALSE POSITIVE  FALSE POSITIVE"
      ]
     },
     "execution_count": 17,
     "metadata": {},
     "output_type": "execute_result"
    }
   ],
   "source": [
    "pred_df = pd.DataFrame({\"Prediction\": predictions, \"Actual\": y_test})\n",
    "pred_df.head(10)"
   ]
  },
  {
   "cell_type": "markdown",
   "metadata": {},
   "source": [
    "# Model 2\n",
    "\n"
   ]
  },
  {
   "cell_type": "code",
   "execution_count": 18,
   "metadata": {},
   "outputs": [
    {
     "name": "stderr",
     "output_type": "stream",
     "text": [
      "/anaconda3/envs/python_data/lib/python3.6/site-packages/sklearn/svm/base.py:196: FutureWarning: The default value of gamma will change from 'auto' to 'scale' in version 0.22 to account better for unscaled features. Set gamma explicitly to 'auto' or 'scale' to avoid this warning.\n",
      "  \"avoid this warning.\", FutureWarning)\n"
     ]
    },
    {
     "data": {
      "text/plain": [
       "SVC(C=1.0, cache_size=200, class_weight=None, coef0=0.0,\n",
       "  decision_function_shape='ovr', degree=3, gamma='auto_deprecated',\n",
       "  kernel='rbf', max_iter=-1, probability=False, random_state=1,\n",
       "  shrinking=True, tol=0.001, verbose=False)"
      ]
     },
     "execution_count": 18,
     "metadata": {},
     "output_type": "execute_result"
    }
   ],
   "source": [
    "model2 = SVC(kernel='rbf', random_state=1)\n",
    "model2.fit(X_train_scaled, y_train)"
   ]
  },
  {
   "cell_type": "code",
   "execution_count": 19,
   "metadata": {},
   "outputs": [
    {
     "name": "stdout",
     "output_type": "stream",
     "text": [
      "Training Data Score: 0.8039036291552303\n",
      "Testing Data Score: 0.803751143641354\n"
     ]
    }
   ],
   "source": [
    "print(f\"Training Data Score: {model2.score(X_train_scaled, y_train)}\")\n",
    "print(f\"Testing Data Score: {model2.score(X_test_scaled, y_test)}\")"
   ]
  },
  {
   "cell_type": "code",
   "execution_count": 20,
   "metadata": {},
   "outputs": [],
   "source": [
    "# Create the GridSearch estimator along with a parameter object containing the values to adjust\n",
    "\n",
    "param_grid = {'C': [1, 5, 10, 50],\n",
    "              'gamma': [0.0001, 0.0005, 0.001, 0.005]}\n",
    "grid2 = GridSearchCV(model2, param_grid, verbose=3)"
   ]
  },
  {
   "cell_type": "code",
   "execution_count": 21,
   "metadata": {},
   "outputs": [
    {
     "name": "stdout",
     "output_type": "stream",
     "text": [
      "Fitting 3 folds for each of 16 candidates, totalling 48 fits\n",
      "[CV] C=1, gamma=0.0001 ...............................................\n"
     ]
    },
    {
     "name": "stderr",
     "output_type": "stream",
     "text": [
      "/anaconda3/envs/python_data/lib/python3.6/site-packages/sklearn/model_selection/_split.py:2053: FutureWarning: You should specify a value for 'cv' instead of relying on the default value. The default value will change from 3 to 5 in version 0.22.\n",
      "  warnings.warn(CV_WARNING, FutureWarning)\n",
      "[Parallel(n_jobs=1)]: Using backend SequentialBackend with 1 concurrent workers.\n"
     ]
    },
    {
     "name": "stdout",
     "output_type": "stream",
     "text": [
      "[CV] ...... C=1, gamma=0.0001, score=0.4983996342021033, total=   1.7s\n",
      "[CV] C=1, gamma=0.0001 ...............................................\n"
     ]
    },
    {
     "name": "stderr",
     "output_type": "stream",
     "text": [
      "[Parallel(n_jobs=1)]: Done   1 out of   1 | elapsed:    2.5s remaining:    0.0s\n"
     ]
    },
    {
     "name": "stdout",
     "output_type": "stream",
     "text": [
      "[CV] ..... C=1, gamma=0.0001, score=0.49817017383348583, total=   1.7s\n",
      "[CV] C=1, gamma=0.0001 ...............................................\n"
     ]
    },
    {
     "name": "stderr",
     "output_type": "stream",
     "text": [
      "[Parallel(n_jobs=1)]: Done   2 out of   2 | elapsed:    5.0s remaining:    0.0s\n"
     ]
    },
    {
     "name": "stdout",
     "output_type": "stream",
     "text": [
      "[CV] ...... C=1, gamma=0.0001, score=0.4983981693363844, total=   1.7s\n",
      "[CV] C=1, gamma=0.0005 ...............................................\n",
      "[CV] ...... C=1, gamma=0.0005, score=0.4983996342021033, total=   1.7s\n",
      "[CV] C=1, gamma=0.0005 ...............................................\n",
      "[CV] ..... C=1, gamma=0.0005, score=0.49817017383348583, total=   1.7s\n",
      "[CV] C=1, gamma=0.0005 ...............................................\n",
      "[CV] ...... C=1, gamma=0.0005, score=0.4983981693363844, total=   1.7s\n",
      "[CV] C=1, gamma=0.001 ................................................\n",
      "[CV] ....... C=1, gamma=0.001, score=0.4983996342021033, total=   1.7s\n",
      "[CV] C=1, gamma=0.001 ................................................\n",
      "[CV] ...... C=1, gamma=0.001, score=0.49817017383348583, total=   1.7s\n",
      "[CV] C=1, gamma=0.001 ................................................\n",
      "[CV] ....... C=1, gamma=0.001, score=0.4983981693363844, total=   1.7s\n",
      "[CV] C=1, gamma=0.005 ................................................\n",
      "[CV] ........ C=1, gamma=0.005, score=0.735711019661637, total=   1.3s\n",
      "[CV] C=1, gamma=0.005 ................................................\n",
      "[CV] ....... C=1, gamma=0.005, score=0.7378774016468436, total=   1.3s\n",
      "[CV] C=1, gamma=0.005 ................................................\n",
      "[CV] ....... C=1, gamma=0.005, score=0.7395881006864988, total=   1.3s\n",
      "[CV] C=5, gamma=0.0001 ...............................................\n",
      "[CV] ...... C=5, gamma=0.0001, score=0.4983996342021033, total=   1.7s\n",
      "[CV] C=5, gamma=0.0001 ...............................................\n",
      "[CV] ..... C=5, gamma=0.0001, score=0.49817017383348583, total=   1.7s\n",
      "[CV] C=5, gamma=0.0001 ...............................................\n",
      "[CV] ...... C=5, gamma=0.0001, score=0.4983981693363844, total=   1.7s\n",
      "[CV] C=5, gamma=0.0005 ...............................................\n",
      "[CV] ....... C=5, gamma=0.0005, score=0.735711019661637, total=   1.6s\n",
      "[CV] C=5, gamma=0.0005 ...............................................\n",
      "[CV] ...... C=5, gamma=0.0005, score=0.7378774016468436, total=   1.6s\n",
      "[CV] C=5, gamma=0.0005 ...............................................\n",
      "[CV] ...... C=5, gamma=0.0005, score=0.7395881006864988, total=   1.6s\n",
      "[CV] C=5, gamma=0.001 ................................................\n",
      "[CV] ........ C=5, gamma=0.001, score=0.735711019661637, total=   1.3s\n",
      "[CV] C=5, gamma=0.001 ................................................\n",
      "[CV] ....... C=5, gamma=0.001, score=0.7378774016468436, total=   1.2s\n",
      "[CV] C=5, gamma=0.001 ................................................\n",
      "[CV] ....... C=5, gamma=0.001, score=0.7395881006864988, total=   1.3s\n",
      "[CV] C=5, gamma=0.005 ................................................\n",
      "[CV] ....... C=5, gamma=0.005, score=0.7914951989026063, total=   0.9s\n",
      "[CV] C=5, gamma=0.005 ................................................\n",
      "[CV] ....... C=5, gamma=0.005, score=0.7918572735590119, total=   0.9s\n",
      "[CV] C=5, gamma=0.005 ................................................\n",
      "[CV] ....... C=5, gamma=0.005, score=0.7899313501144165, total=   0.9s\n",
      "[CV] C=10, gamma=0.0001 ..............................................\n",
      "[CV] ..... C=10, gamma=0.0001, score=0.4983996342021033, total=   1.7s\n",
      "[CV] C=10, gamma=0.0001 ..............................................\n",
      "[CV] .... C=10, gamma=0.0001, score=0.49817017383348583, total=   1.7s\n",
      "[CV] C=10, gamma=0.0001 ..............................................\n",
      "[CV] ..... C=10, gamma=0.0001, score=0.4983981693363844, total=   1.7s\n",
      "[CV] C=10, gamma=0.0005 ..............................................\n",
      "[CV] ...... C=10, gamma=0.0005, score=0.735711019661637, total=   1.3s\n",
      "[CV] C=10, gamma=0.0005 ..............................................\n",
      "[CV] ..... C=10, gamma=0.0005, score=0.7378774016468436, total=   1.3s\n",
      "[CV] C=10, gamma=0.0005 ..............................................\n",
      "[CV] ..... C=10, gamma=0.0005, score=0.7395881006864988, total=   1.3s\n",
      "[CV] C=10, gamma=0.001 ...............................................\n",
      "[CV] ...... C=10, gamma=0.001, score=0.7713763145861912, total=   1.0s\n",
      "[CV] C=10, gamma=0.001 ...............................................\n",
      "[CV] ...... C=10, gamma=0.001, score=0.7685269899359561, total=   1.0s\n",
      "[CV] C=10, gamma=0.001 ...............................................\n",
      "[CV] ...... C=10, gamma=0.001, score=0.7702517162471396, total=   1.0s\n",
      "[CV] C=10, gamma=0.005 ...............................................\n",
      "[CV] ...... C=10, gamma=0.005, score=0.8052126200274349, total=   0.8s\n",
      "[CV] C=10, gamma=0.005 ...............................................\n",
      "[CV] ...... C=10, gamma=0.005, score=0.8170173833485819, total=   0.8s\n",
      "[CV] C=10, gamma=0.005 ...............................................\n",
      "[CV] ...... C=10, gamma=0.005, score=0.8096109839816934, total=   0.8s\n",
      "[CV] C=50, gamma=0.0001 ..............................................\n",
      "[CV] ...... C=50, gamma=0.0001, score=0.735711019661637, total=   1.3s\n",
      "[CV] C=50, gamma=0.0001 ..............................................\n",
      "[CV] ..... C=50, gamma=0.0001, score=0.7378774016468436, total=   1.3s\n",
      "[CV] C=50, gamma=0.0001 ..............................................\n",
      "[CV] ..... C=50, gamma=0.0001, score=0.7395881006864988, total=   1.3s\n",
      "[CV] C=50, gamma=0.0005 ..............................................\n",
      "[CV] ..... C=50, gamma=0.0005, score=0.7914951989026063, total=   0.8s\n",
      "[CV] C=50, gamma=0.0005 ..............................................\n",
      "[CV] ..... C=50, gamma=0.0005, score=0.7918572735590119, total=   0.8s\n",
      "[CV] C=50, gamma=0.0005 ..............................................\n",
      "[CV] ..... C=50, gamma=0.0005, score=0.7899313501144165, total=   0.8s\n",
      "[CV] C=50, gamma=0.001 ...............................................\n",
      "[CV] ...... C=50, gamma=0.001, score=0.8047553726566072, total=   0.7s\n",
      "[CV] C=50, gamma=0.001 ...............................................\n",
      "[CV] ...... C=50, gamma=0.001, score=0.8170173833485819, total=   0.8s\n",
      "[CV] C=50, gamma=0.001 ...............................................\n",
      "[CV] ...... C=50, gamma=0.001, score=0.8096109839816934, total=   0.8s\n",
      "[CV] C=50, gamma=0.005 ...............................................\n",
      "[CV] ...... C=50, gamma=0.005, score=0.8308184727937814, total=   0.7s\n",
      "[CV] C=50, gamma=0.005 ...............................................\n",
      "[CV] ...... C=50, gamma=0.005, score=0.8366880146386093, total=   0.7s\n",
      "[CV] C=50, gamma=0.005 ...............................................\n",
      "[CV] ...... C=50, gamma=0.005, score=0.8270022883295195, total=   0.7s\n"
     ]
    },
    {
     "name": "stderr",
     "output_type": "stream",
     "text": [
      "[Parallel(n_jobs=1)]: Done  48 out of  48 | elapsed:  1.5min finished\n"
     ]
    },
    {
     "data": {
      "text/plain": [
       "GridSearchCV(cv='warn', error_score='raise-deprecating',\n",
       "       estimator=SVC(C=1.0, cache_size=200, class_weight=None, coef0=0.0,\n",
       "  decision_function_shape='ovr', degree=3, gamma='auto_deprecated',\n",
       "  kernel='rbf', max_iter=-1, probability=False, random_state=1,\n",
       "  shrinking=True, tol=0.001, verbose=False),\n",
       "       fit_params=None, iid='warn', n_jobs=None,\n",
       "       param_grid={'C': [1, 5, 10, 50], 'gamma': [0.0001, 0.0005, 0.001, 0.005]},\n",
       "       pre_dispatch='2*n_jobs', refit=True, return_train_score='warn',\n",
       "       scoring=None, verbose=3)"
      ]
     },
     "execution_count": 21,
     "metadata": {},
     "output_type": "execute_result"
    }
   ],
   "source": [
    "# Train the model with GridSearch\n",
    "grid2.fit(X_train_scaled, y_train)"
   ]
  },
  {
   "cell_type": "code",
   "execution_count": 22,
   "metadata": {},
   "outputs": [
    {
     "name": "stdout",
     "output_type": "stream",
     "text": [
      "{'C': 50, 'gamma': 0.005}\n",
      "0.8315035071668192\n"
     ]
    }
   ],
   "source": [
    "print(grid2.best_params_)\n",
    "print(grid2.best_score_)"
   ]
  },
  {
   "cell_type": "code",
   "execution_count": 23,
   "metadata": {},
   "outputs": [],
   "source": [
    "# Make predictions with the hypertuned model\n",
    "predictions = grid2.predict(X_test_scaled)"
   ]
  },
  {
   "cell_type": "code",
   "execution_count": 24,
   "metadata": {},
   "outputs": [
    {
     "name": "stdout",
     "output_type": "stream",
     "text": [
      "                precision    recall  f1-score   support\n",
      "\n",
      "     CONFIRMED       0.75      0.55      0.63       528\n",
      "FALSE POSITIVE       0.66      0.80      0.73       568\n",
      "     CANDIDATE       0.98      1.00      0.99      1090\n",
      "\n",
      "     micro avg       0.84      0.84      0.84      2186\n",
      "     macro avg       0.80      0.78      0.78      2186\n",
      "  weighted avg       0.84      0.84      0.84      2186\n",
      "\n"
     ]
    }
   ],
   "source": [
    "# Calculate classification report\n",
    "\n",
    "print(classification_report(y_test, predictions,\n",
    "                            target_names=['CONFIRMED', 'FALSE POSITIVE', 'CANDIDATE']))"
   ]
  },
  {
   "cell_type": "markdown",
   "metadata": {},
   "source": [
    "# Model 3\n"
   ]
  },
  {
   "cell_type": "code",
   "execution_count": 25,
   "metadata": {},
   "outputs": [
    {
     "name": "stderr",
     "output_type": "stream",
     "text": [
      "/anaconda3/envs/python_data/lib/python3.6/site-packages/sklearn/svm/base.py:196: FutureWarning: The default value of gamma will change from 'auto' to 'scale' in version 0.22 to account better for unscaled features. Set gamma explicitly to 'auto' or 'scale' to avoid this warning.\n",
      "  \"avoid this warning.\", FutureWarning)\n"
     ]
    },
    {
     "data": {
      "text/plain": [
       "SVC(C=1.0, cache_size=200, class_weight=None, coef0=0.0,\n",
       "  decision_function_shape='ovr', degree=3, gamma='auto_deprecated',\n",
       "  kernel='poly', max_iter=-1, probability=False, random_state=1,\n",
       "  shrinking=True, tol=0.001, verbose=False)"
      ]
     },
     "execution_count": 25,
     "metadata": {},
     "output_type": "execute_result"
    }
   ],
   "source": [
    "model3 = SVC(kernel='poly', random_state=1)\n",
    "model3.fit(X_train_scaled, y_train)"
   ]
  },
  {
   "cell_type": "code",
   "execution_count": 26,
   "metadata": {},
   "outputs": [
    {
     "name": "stdout",
     "output_type": "stream",
     "text": [
      "Training Data Score: 0.7377249161329674\n",
      "Testing Data Score: 0.7397072278133577\n"
     ]
    }
   ],
   "source": [
    "print(f\"Training Data Score: {model3.score(X_train_scaled, y_train)}\")\n",
    "print(f\"Testing Data Score: {model3.score(X_test_scaled, y_test)}\")"
   ]
  },
  {
   "cell_type": "code",
   "execution_count": 27,
   "metadata": {},
   "outputs": [],
   "source": [
    "# Create the GridSearch estimator along with a parameter object containing the values to adjust\n",
    "\n",
    "param_grid = {'C': [1, 5, 10, 50],\n",
    "              'gamma': [0.0001, 0.0005, 0.001, 0.005]}\n",
    "grid3 = GridSearchCV(model3, param_grid, verbose=3)"
   ]
  },
  {
   "cell_type": "code",
   "execution_count": null,
   "metadata": {},
   "outputs": [],
   "source": []
  },
  {
   "cell_type": "code",
   "execution_count": 28,
   "metadata": {},
   "outputs": [
    {
     "name": "stdout",
     "output_type": "stream",
     "text": [
      "Fitting 3 folds for each of 16 candidates, totalling 48 fits\n",
      "[CV] C=1, gamma=0.0001 ...............................................\n"
     ]
    },
    {
     "name": "stderr",
     "output_type": "stream",
     "text": [
      "/anaconda3/envs/python_data/lib/python3.6/site-packages/sklearn/model_selection/_split.py:2053: FutureWarning: You should specify a value for 'cv' instead of relying on the default value. The default value will change from 3 to 5 in version 0.22.\n",
      "  warnings.warn(CV_WARNING, FutureWarning)\n",
      "[Parallel(n_jobs=1)]: Using backend SequentialBackend with 1 concurrent workers.\n"
     ]
    },
    {
     "name": "stdout",
     "output_type": "stream",
     "text": [
      "[CV] ...... C=1, gamma=0.0001, score=0.4983996342021033, total=   1.2s\n",
      "[CV] C=1, gamma=0.0001 ...............................................\n"
     ]
    },
    {
     "name": "stderr",
     "output_type": "stream",
     "text": [
      "[Parallel(n_jobs=1)]: Done   1 out of   1 | elapsed:    1.8s remaining:    0.0s\n"
     ]
    },
    {
     "name": "stdout",
     "output_type": "stream",
     "text": [
      "[CV] ..... C=1, gamma=0.0001, score=0.49817017383348583, total=   1.3s\n",
      "[CV] C=1, gamma=0.0001 ...............................................\n"
     ]
    },
    {
     "name": "stderr",
     "output_type": "stream",
     "text": [
      "[Parallel(n_jobs=1)]: Done   2 out of   2 | elapsed:    3.6s remaining:    0.0s\n"
     ]
    },
    {
     "name": "stdout",
     "output_type": "stream",
     "text": [
      "[CV] ...... C=1, gamma=0.0001, score=0.4983981693363844, total=   1.2s\n",
      "[CV] C=1, gamma=0.0005 ...............................................\n",
      "[CV] ...... C=1, gamma=0.0005, score=0.4983996342021033, total=   1.2s\n",
      "[CV] C=1, gamma=0.0005 ...............................................\n",
      "[CV] ..... C=1, gamma=0.0005, score=0.49817017383348583, total=   1.2s\n",
      "[CV] C=1, gamma=0.0005 ...............................................\n",
      "[CV] ...... C=1, gamma=0.0005, score=0.4983981693363844, total=   1.2s\n",
      "[CV] C=1, gamma=0.001 ................................................\n",
      "[CV] ....... C=1, gamma=0.001, score=0.4983996342021033, total=   1.2s\n",
      "[CV] C=1, gamma=0.001 ................................................\n",
      "[CV] ...... C=1, gamma=0.001, score=0.49817017383348583, total=   1.2s\n",
      "[CV] C=1, gamma=0.001 ................................................\n",
      "[CV] ....... C=1, gamma=0.001, score=0.4983981693363844, total=   1.2s\n",
      "[CV] C=1, gamma=0.005 ................................................\n",
      "[CV] ....... C=1, gamma=0.005, score=0.4983996342021033, total=   1.2s\n",
      "[CV] C=1, gamma=0.005 ................................................\n",
      "[CV] ...... C=1, gamma=0.005, score=0.49817017383348583, total=   1.3s\n",
      "[CV] C=1, gamma=0.005 ................................................\n",
      "[CV] ....... C=1, gamma=0.005, score=0.4983981693363844, total=   1.3s\n",
      "[CV] C=5, gamma=0.0001 ...............................................\n",
      "[CV] ...... C=5, gamma=0.0001, score=0.4983996342021033, total=   1.2s\n",
      "[CV] C=5, gamma=0.0001 ...............................................\n",
      "[CV] ..... C=5, gamma=0.0001, score=0.49817017383348583, total=   1.2s\n",
      "[CV] C=5, gamma=0.0001 ...............................................\n",
      "[CV] ...... C=5, gamma=0.0001, score=0.4983981693363844, total=   1.2s\n",
      "[CV] C=5, gamma=0.0005 ...............................................\n",
      "[CV] ...... C=5, gamma=0.0005, score=0.4983996342021033, total=   1.2s\n",
      "[CV] C=5, gamma=0.0005 ...............................................\n",
      "[CV] ..... C=5, gamma=0.0005, score=0.49817017383348583, total=   1.2s\n",
      "[CV] C=5, gamma=0.0005 ...............................................\n",
      "[CV] ...... C=5, gamma=0.0005, score=0.4983981693363844, total=   1.2s\n",
      "[CV] C=5, gamma=0.001 ................................................\n",
      "[CV] ....... C=5, gamma=0.001, score=0.4983996342021033, total=   1.2s\n",
      "[CV] C=5, gamma=0.001 ................................................\n",
      "[CV] ...... C=5, gamma=0.001, score=0.49817017383348583, total=   1.2s\n",
      "[CV] C=5, gamma=0.001 ................................................\n",
      "[CV] ....... C=5, gamma=0.001, score=0.4983981693363844, total=   1.2s\n",
      "[CV] C=5, gamma=0.005 ................................................\n",
      "[CV] ....... C=5, gamma=0.005, score=0.4983996342021033, total=   1.2s\n",
      "[CV] C=5, gamma=0.005 ................................................\n",
      "[CV] ...... C=5, gamma=0.005, score=0.49817017383348583, total=   1.3s\n",
      "[CV] C=5, gamma=0.005 ................................................\n",
      "[CV] ....... C=5, gamma=0.005, score=0.4983981693363844, total=   1.3s\n",
      "[CV] C=10, gamma=0.0001 ..............................................\n",
      "[CV] ..... C=10, gamma=0.0001, score=0.4983996342021033, total=   1.2s\n",
      "[CV] C=10, gamma=0.0001 ..............................................\n",
      "[CV] .... C=10, gamma=0.0001, score=0.49817017383348583, total=   1.2s\n",
      "[CV] C=10, gamma=0.0001 ..............................................\n",
      "[CV] ..... C=10, gamma=0.0001, score=0.4983981693363844, total=   1.2s\n",
      "[CV] C=10, gamma=0.0005 ..............................................\n",
      "[CV] ..... C=10, gamma=0.0005, score=0.4983996342021033, total=   1.2s\n",
      "[CV] C=10, gamma=0.0005 ..............................................\n",
      "[CV] .... C=10, gamma=0.0005, score=0.49817017383348583, total=   1.2s\n",
      "[CV] C=10, gamma=0.0005 ..............................................\n",
      "[CV] ..... C=10, gamma=0.0005, score=0.4983981693363844, total=   1.2s\n",
      "[CV] C=10, gamma=0.001 ...............................................\n",
      "[CV] ...... C=10, gamma=0.001, score=0.4983996342021033, total=   1.2s\n",
      "[CV] C=10, gamma=0.001 ...............................................\n",
      "[CV] ..... C=10, gamma=0.001, score=0.49817017383348583, total=   1.3s\n",
      "[CV] C=10, gamma=0.001 ...............................................\n",
      "[CV] ...... C=10, gamma=0.001, score=0.4983981693363844, total=   1.3s\n",
      "[CV] C=10, gamma=0.005 ...............................................\n",
      "[CV] ...... C=10, gamma=0.005, score=0.4983996342021033, total=   1.3s\n",
      "[CV] C=10, gamma=0.005 ...............................................\n",
      "[CV] ..... C=10, gamma=0.005, score=0.49817017383348583, total=   1.3s\n",
      "[CV] C=10, gamma=0.005 ...............................................\n",
      "[CV] ...... C=10, gamma=0.005, score=0.4983981693363844, total=   1.3s\n",
      "[CV] C=50, gamma=0.0001 ..............................................\n",
      "[CV] ..... C=50, gamma=0.0001, score=0.4983996342021033, total=   1.2s\n",
      "[CV] C=50, gamma=0.0001 ..............................................\n",
      "[CV] .... C=50, gamma=0.0001, score=0.49817017383348583, total=   1.2s\n",
      "[CV] C=50, gamma=0.0001 ..............................................\n",
      "[CV] ..... C=50, gamma=0.0001, score=0.4983981693363844, total=   1.2s\n",
      "[CV] C=50, gamma=0.0005 ..............................................\n",
      "[CV] ..... C=50, gamma=0.0005, score=0.4983996342021033, total=   1.3s\n",
      "[CV] C=50, gamma=0.0005 ..............................................\n",
      "[CV] .... C=50, gamma=0.0005, score=0.49817017383348583, total=   1.2s\n",
      "[CV] C=50, gamma=0.0005 ..............................................\n",
      "[CV] ..... C=50, gamma=0.0005, score=0.4983981693363844, total=   1.2s\n",
      "[CV] C=50, gamma=0.001 ...............................................\n",
      "[CV] ...... C=50, gamma=0.001, score=0.4983996342021033, total=   1.2s\n",
      "[CV] C=50, gamma=0.001 ...............................................\n",
      "[CV] ..... C=50, gamma=0.001, score=0.49817017383348583, total=   1.2s\n",
      "[CV] C=50, gamma=0.001 ...............................................\n",
      "[CV] ...... C=50, gamma=0.001, score=0.4983981693363844, total=   1.3s\n",
      "[CV] C=50, gamma=0.005 ...............................................\n",
      "[CV] ...... C=50, gamma=0.005, score=0.7302240512117055, total=   1.2s\n",
      "[CV] C=50, gamma=0.005 ...............................................\n",
      "[CV] ...... C=50, gamma=0.005, score=0.7342177493138152, total=   1.3s\n",
      "[CV] C=50, gamma=0.005 ...............................................\n",
      "[CV] ...... C=50, gamma=0.005, score=0.7395881006864988, total=   1.2s\n"
     ]
    },
    {
     "name": "stderr",
     "output_type": "stream",
     "text": [
      "[Parallel(n_jobs=1)]: Done  48 out of  48 | elapsed:  1.4min finished\n"
     ]
    },
    {
     "data": {
      "text/plain": [
       "GridSearchCV(cv='warn', error_score='raise-deprecating',\n",
       "       estimator=SVC(C=1.0, cache_size=200, class_weight=None, coef0=0.0,\n",
       "  decision_function_shape='ovr', degree=3, gamma='auto_deprecated',\n",
       "  kernel='poly', max_iter=-1, probability=False, random_state=1,\n",
       "  shrinking=True, tol=0.001, verbose=False),\n",
       "       fit_params=None, iid='warn', n_jobs=None,\n",
       "       param_grid={'C': [1, 5, 10, 50], 'gamma': [0.0001, 0.0005, 0.001, 0.005]},\n",
       "       pre_dispatch='2*n_jobs', refit=True, return_train_score='warn',\n",
       "       scoring=None, verbose=3)"
      ]
     },
     "execution_count": 28,
     "metadata": {},
     "output_type": "execute_result"
    }
   ],
   "source": [
    "# Train the model with GridSearch\n",
    "grid3.fit(X_train_scaled, y_train)"
   ]
  },
  {
   "cell_type": "code",
   "execution_count": 29,
   "metadata": {},
   "outputs": [
    {
     "name": "stdout",
     "output_type": "stream",
     "text": [
      "{'C': 50, 'gamma': 0.005}\n",
      "0.7346752058554438\n"
     ]
    }
   ],
   "source": [
    "print(grid3.best_params_)\n",
    "print(grid3.best_score_)"
   ]
  },
  {
   "cell_type": "code",
   "execution_count": 30,
   "metadata": {},
   "outputs": [],
   "source": [
    "# Make predictions with the hypertuned model\n",
    "predictions = grid3.predict(X_test_scaled)"
   ]
  },
  {
   "cell_type": "code",
   "execution_count": 31,
   "metadata": {},
   "outputs": [
    {
     "name": "stdout",
     "output_type": "stream",
     "text": [
      "                precision    recall  f1-score   support\n",
      "\n",
      "     CONFIRMED       0.00      0.00      0.00       528\n",
      "FALSE POSITIVE       0.50      0.97      0.66       568\n",
      "     CANDIDATE       0.98      0.98      0.98      1090\n",
      "\n",
      "     micro avg       0.74      0.74      0.74      2186\n",
      "     macro avg       0.49      0.65      0.55      2186\n",
      "  weighted avg       0.62      0.74      0.66      2186\n",
      "\n"
     ]
    },
    {
     "name": "stderr",
     "output_type": "stream",
     "text": [
      "/anaconda3/envs/python_data/lib/python3.6/site-packages/sklearn/metrics/classification.py:1143: UndefinedMetricWarning: Precision and F-score are ill-defined and being set to 0.0 in labels with no predicted samples.\n",
      "  'precision', 'predicted', average, warn_for)\n"
     ]
    }
   ],
   "source": [
    "# Calculate classification report\n",
    "\n",
    "print(classification_report(y_test, predictions,\n",
    "                            target_names=['CONFIRMED', 'FALSE POSITIVE', 'CANDIDATE']))"
   ]
  },
  {
   "cell_type": "markdown",
   "metadata": {},
   "source": [
    "# model 4\n"
   ]
  },
  {
   "cell_type": "code",
   "execution_count": 32,
   "metadata": {},
   "outputs": [],
   "source": [
    "import matplotlib.pyplot as plt\n",
    "from sklearn.neighbors import KNeighborsClassifier"
   ]
  },
  {
   "cell_type": "code",
   "execution_count": 46,
   "metadata": {
    "scrolled": true
   },
   "outputs": [],
   "source": [
    "# Loop through different k values to see which has the highest accuracy\n",
    "# Note: We only use odd numbers because we don't want any ties\n",
    "train_scores = []\n",
    "test_scores = []\n",
    "score_diff = []\n",
    "min_score = 1\n",
    "best_fit = 0\n",
    "for k in range(1, 100, 2):\n",
    "    knn = KNeighborsClassifier(n_neighbors=k)\n",
    "    knn.fit(X_train_scaled, y_train)\n",
    "    train_score = knn.score(X_train_scaled, y_train)\n",
    "    test_score = knn.score(X_test_scaled, y_test)\n",
    "    train_scores.append(train_score)\n",
    "    test_scores.append(test_score)\n",
    "    score_diff = abs(train_score - test_score)\n",
    "    if score_diff < min_score:\n",
    "        min_score = score_diff\n",
    "        best_fit = k\n",
    "       \n",
    "    \n",
    "#     print(f\"k: {k}, Train/Test Score: {train_score:.3f}/{test_score:.3f}\")\n",
    "#     print(f\"score diff: {score_diff}\")"
   ]
  },
  {
   "cell_type": "code",
   "execution_count": 47,
   "metadata": {},
   "outputs": [
    {
     "name": "stdout",
     "output_type": "stream",
     "text": [
      "min score: 0.00015248551387625486, best_fit: 73\n"
     ]
    },
    {
     "data": {
      "image/png": "[encoded data removed]",
      "text/plain": [
       "<Figure size 432x288 with 1 Axes>"
      ]
     },
     "metadata": {
      "needs_background": "light"
     },
     "output_type": "display_data"
    }
   ],
   "source": [
    "    \n",
    "print(f\"min score: {min_score}, best_fit: {best_fit}\")\n",
    "    \n",
    "    \n",
    "plt.plot(range(1, 100, 2), train_scores, marker='o')\n",
    "plt.plot(range(1, 100, 2), test_scores, marker=\"x\")\n",
    "plt.xlabel(\"k neighbors\")\n",
    "plt.ylabel(\"Testing accuracy Score\")\n",
    "plt.show()"
   ]
  },
  {
   "cell_type": "code",
   "execution_count": 48,
   "metadata": {},
   "outputs": [
    {
     "name": "stdout",
     "output_type": "stream",
     "text": [
      "best_fit: 73\n",
      "Test Acc: 0.636\n"
     ]
    }
   ],
   "source": [
    "knn = KNeighborsClassifier(n_neighbors= best_fit)\n",
    "knn.fit(X_train, y_train)\n",
    "print(f\"best_fit: {best_fit}\")\n",
    "print('Test Acc: %.3f' % knn.score(X_test, y_test))"
   ]
  },
  {
   "cell_type": "code",
   "execution_count": 49,
   "metadata": {},
   "outputs": [
    {
     "name": "stdout",
     "output_type": "stream",
     "text": [
      "Training Data Score: 0.6576700213479719\n",
      "Testing Data Score: 0.6363220494053065\n"
     ]
    }
   ],
   "source": [
    "print(f\"Training Data Score: {knn.score(X_train, y_train)}\")\n",
    "print(f\"Testing Data Score: {knn.score(X_test, y_test)}\")"
   ]
  },
  {
   "cell_type": "code",
   "execution_count": 50,
   "metadata": {},
   "outputs": [],
   "source": [
    "predictions = knn.predict(X_test)"
   ]
  },
  {
   "cell_type": "code",
   "execution_count": 51,
   "metadata": {},
   "outputs": [
    {
     "name": "stdout",
     "output_type": "stream",
     "text": [
      "                precision    recall  f1-score   support\n",
      "\n",
      "     CONFIRMED       0.47      0.37      0.41       528\n",
      "FALSE POSITIVE       0.56      0.67      0.61       568\n",
      "     CANDIDATE       0.75      0.75      0.75      1090\n",
      "\n",
      "     micro avg       0.64      0.64      0.64      2186\n",
      "     macro avg       0.59      0.59      0.59      2186\n",
      "  weighted avg       0.63      0.64      0.63      2186\n",
      "\n"
     ]
    }
   ],
   "source": [
    "print(classification_report(y_test, predictions,\n",
    "                            target_names=['CONFIRMED', 'FALSE POSITIVE', 'CANDIDATE']))"
   ]
  },
  {
   "cell_type": "markdown",
   "metadata": {},
   "source": [
    "### --------------------------------------------------\n",
    "### trying unscaled"
   ]
  },
  {
   "cell_type": "code",
   "execution_count": 39,
   "metadata": {},
   "outputs": [],
   "source": [
    "# Loop through different k values to see which has the highest accuracy\n",
    "# Note: We only use odd numbers because we don't want any ties\n",
    "train_scores = []\n",
    "test_scores = []\n",
    "score_diff = []\n",
    "min_score = 1\n",
    "best_fit = 0\n",
    "for k in range(1, 100, 2):\n",
    "    knn1 = KNeighborsClassifier(n_neighbors=k)\n",
    "    knn1.fit(X_train, y_train)\n",
    "    train_score = knn1.score(X_train, y_train)\n",
    "    test_score = knn1.score(X_test, y_test)\n",
    "    train_scores.append(train_score)\n",
    "    test_scores.append(test_score)\n",
    "    score_diff = abs(train_score - test_score)\n",
    "    if score_diff < min_score:\n",
    "        min_score = score_diff\n",
    "        best_fit = k\n",
    "       \n",
    "    "
   ]
  },
  {
   "cell_type": "code",
   "execution_count": 40,
   "metadata": {},
   "outputs": [
    {
     "name": "stdout",
     "output_type": "stream",
     "text": [
      "min score: 0.016468435498627643, best_fit: 91\n"
     ]
    },
    {
     "data": {
      "image/png": "[encoded data removed]",
      "text/plain": [
       "<Figure size 432x288 with 1 Axes>"
      ]
     },
     "metadata": {
      "needs_background": "light"
     },
     "output_type": "display_data"
    }
   ],
   "source": [
    "    \n",
    "print(f\"min score: {min_score}, best_fit: {best_fit}\")\n",
    "    \n",
    "    \n",
    "plt.plot(range(1, 100, 2), train_scores, marker='o')\n",
    "plt.plot(range(1, 100, 2), test_scores, marker=\"x\")\n",
    "plt.xlabel(\"k neighbors\")\n",
    "plt.ylabel(\"Testing accuracy Score\")\n",
    "plt.show()"
   ]
  },
  {
   "cell_type": "code",
   "execution_count": 41,
   "metadata": {},
   "outputs": [
    {
     "name": "stdout",
     "output_type": "stream",
     "text": [
      "best_fit: 91\n",
      "Test Acc: 0.635\n"
     ]
    }
   ],
   "source": [
    "knn1 = KNeighborsClassifier(n_neighbors= best_fit)\n",
    "knn1.fit(X_train, y_train)\n",
    "print(f\"best_fit: {best_fit}\")\n",
    "print('Test Acc: %.3f' % knn1.score(X_test, y_test))"
   ]
  },
  {
   "cell_type": "code",
   "execution_count": 52,
   "metadata": {},
   "outputs": [
    {
     "name": "stdout",
     "output_type": "stream",
     "text": [
      "Training Data Score: 0.6514181152790485\n",
      "Testing Data Score: 0.6349496797804208\n"
     ]
    }
   ],
   "source": [
    "print(f\"Training Data Score: {knn1.score(X_train, y_train)}\")\n",
    "print(f\"Testing Data Score: {knn1.score(X_test, y_test)}\")"
   ]
  },
  {
   "cell_type": "code",
   "execution_count": 56,
   "metadata": {},
   "outputs": [],
   "source": [
    "predictions = knn1.predict(X_test)"
   ]
  },
  {
   "cell_type": "code",
   "execution_count": 57,
   "metadata": {},
   "outputs": [
    {
     "name": "stdout",
     "output_type": "stream",
     "text": [
      "0.6349496797804208\n"
     ]
    }
   ],
   "source": [
    "print(np.sum(predictions == y_test)/ float(len(y_test)))"
   ]
  },
  {
   "cell_type": "code",
   "execution_count": 58,
   "metadata": {},
   "outputs": [
    {
     "name": "stdout",
     "output_type": "stream",
     "text": [
      "samples correctly classified:\n",
      "[   0    1    2 ... 2182 2184 2185]\n"
     ]
    }
   ],
   "source": [
    "print('samples correctly classified:')\n",
    "correct_idx = np.where(predictions == y_test)[0]\n",
    "print(correct_idx)"
   ]
  },
  {
   "cell_type": "code",
   "execution_count": 59,
   "metadata": {},
   "outputs": [
    {
     "name": "stdout",
     "output_type": "stream",
     "text": [
      "samples incorrectly classified:\n",
      "[   3    7   13   15   18   19   21   23   32   36   42   43   47   48\n",
      "   58   59   61   62   66   67   70   71   73   76   77   83   85   86\n",
      "   88   90   96  101  107  109  110  116  118  120  124  125  126  129\n",
      "  130  132  143  145  150  155  157  162  164  168  170  171  172  174\n",
      "  176  177  183  184  186  187  189  190  191  195  196  197  199  203\n",
      "  211  213  217  218  222  227  229  230  235  238  240  243  246  248\n",
      "  252  254  256  260  263  264  265  266  269  271  276  279  281  289\n",
      "  291  292  293  296  301  303  304  306  311  315  319  322  326  330\n",
      "  333  335  336  338  339  342  344  347  349  350  354  358  359  362\n",
      "  363  364  369  371  372  373  374  375  381  384  385  389  391  392\n",
      "  394  395  401  407  410  411  412  414  416  417  419  423  425  436\n",
      "  440  441  442  443  445  448  449  454  460  461  463  465  468  472\n",
      "  473  474  475  489  490  493  496  498  502  503  505  508  510  511\n",
      "  512  519  520  521  523  525  526  527  530  531  534  536  544  546\n",
      "  549  553  554  555  563  564  565  569  571  574  576  578  589  591\n",
      "  593  599  600  603  605  606  611  612  613  615  618  620  621  627\n",
      "  637  638  646  648  649  653  654  655  656  657  661  664  665  673\n",
      "  674  675  676  677  680  685  686  687  698  705  706  709  710  711\n",
      "  712  713  719  720  722  724  729  742  744  748  751  757  758  760\n",
      "  761  763  768  769  770  771  772  773  775  776  779  781  783  784\n",
      "  785  788  789  793  802  803  805  806  812  822  823  825  827  829\n",
      "  830  831  832  835  836  840  842  844  847  848  849  853  861  866\n",
      "  868  870  871  874  876  877  878  879  881  882  883  884  885  888\n",
      "  889  890  891  898  900  902  903  904  905  907  908  909  913  918\n",
      "  919  921  922  927  928  931  933  938  942  943  944  945  946  947\n",
      "  949  952  953  955  960  961  963  968  973  984  985  987  988  993\n",
      "  994  995  999 1003 1005 1009 1010 1015 1024 1025 1027 1029 1030 1031\n",
      " 1032 1033 1039 1040 1043 1047 1050 1051 1055 1056 1058 1060 1065 1068\n",
      " 1070 1075 1079 1082 1086 1088 1089 1092 1102 1107 1110 1112 1114 1118\n",
      " 1119 1120 1125 1128 1130 1133 1134 1135 1137 1138 1142 1143 1144 1147\n",
      " 1148 1156 1158 1163 1164 1167 1178 1179 1181 1184 1192 1193 1194 1195\n",
      " 1201 1202 1209 1212 1214 1216 1221 1222 1224 1227 1228 1235 1237 1240\n",
      " 1243 1247 1248 1252 1261 1262 1263 1264 1267 1268 1275 1276 1278 1279\n",
      " 1282 1284 1286 1287 1291 1293 1294 1295 1296 1301 1305 1306 1307 1313\n",
      " 1314 1316 1318 1322 1323 1325 1329 1330 1331 1341 1345 1347 1348 1349\n",
      " 1350 1351 1353 1354 1360 1363 1365 1366 1367 1369 1371 1375 1376 1381\n",
      " 1389 1390 1391 1392 1394 1396 1397 1399 1403 1404 1405 1411 1412 1424\n",
      " 1425 1427 1431 1434 1436 1437 1446 1448 1449 1451 1460 1462 1464 1466\n",
      " 1467 1470 1476 1478 1480 1486 1487 1488 1491 1492 1493 1503 1507 1511\n",
      " 1515 1516 1517 1521 1522 1525 1530 1538 1539 1542 1544 1548 1549 1550\n",
      " 1551 1552 1554 1555 1557 1558 1560 1563 1567 1569 1574 1577 1582 1583\n",
      " 1594 1595 1596 1599 1601 1604 1607 1611 1612 1613 1614 1615 1618 1619\n",
      " 1622 1624 1630 1631 1640 1641 1642 1643 1644 1647 1650 1651 1652 1653\n",
      " 1656 1658 1659 1662 1663 1664 1665 1666 1671 1673 1674 1679 1685 1686\n",
      " 1687 1690 1691 1694 1695 1696 1697 1698 1701 1703 1704 1708 1712 1715\n",
      " 1718 1720 1724 1725 1726 1738 1744 1746 1750 1757 1759 1760 1763 1768\n",
      " 1771 1773 1774 1777 1778 1783 1786 1789 1790 1793 1796 1797 1800 1805\n",
      " 1811 1812 1817 1818 1824 1828 1831 1833 1836 1837 1838 1841 1843 1846\n",
      " 1848 1853 1855 1859 1861 1863 1864 1866 1868 1869 1876 1878 1880 1881\n",
      " 1882 1884 1885 1895 1896 1897 1898 1901 1904 1907 1908 1912 1914 1916\n",
      " 1918 1920 1921 1922 1924 1927 1929 1930 1932 1933 1934 1935 1938 1940\n",
      " 1949 1953 1956 1958 1959 1964 1966 1968 1971 1972 1973 1974 1975 1977\n",
      " 1978 1981 1984 1989 1990 1996 1998 2000 2002 2004 2009 2013 2015 2019\n",
      " 2020 2025 2026 2030 2038 2040 2041 2043 2044 2048 2051 2060 2061 2067\n",
      " 2070 2071 2072 2075 2078 2085 2090 2094 2096 2098 2099 2100 2103 2105\n",
      " 2109 2112 2116 2118 2123 2127 2129 2130 2134 2136 2138 2140 2141 2142\n",
      " 2144 2149 2153 2156 2157 2158 2160 2164 2166 2167 2170 2171 2177 2183]\n"
     ]
    }
   ],
   "source": [
    "print('samples incorrectly classified:')\n",
    "incorrect_idx = np.where(predictions != y_test)[0]\n",
    "print(incorrect_idx)"
   ]
  },
  {
   "cell_type": "code",
   "execution_count": 44,
   "metadata": {},
   "outputs": [
    {
     "name": "stdout",
     "output_type": "stream",
     "text": [
      "                precision    recall  f1-score   support\n",
      "\n",
      "     CONFIRMED       0.46      0.36      0.40       528\n",
      "FALSE POSITIVE       0.55      0.67      0.60       568\n",
      "     CANDIDATE       0.75      0.75      0.75      1090\n",
      "\n",
      "     micro avg       0.63      0.63      0.63      2186\n",
      "     macro avg       0.59      0.59      0.59      2186\n",
      "  weighted avg       0.63      0.63      0.63      2186\n",
      "\n"
     ]
    }
   ],
   "source": [
    "print(classification_report(y_test, predictions,\n",
    "                            target_names=['CONFIRMED', 'FALSE POSITIVE', 'CANDIDATE']))"
   ]
  },
  {
   "cell_type": "markdown",
   "metadata": {},
   "source": [
    "## -------------------------------------------------------------------------------\n",
    "### not working"
   ]
  },
  {
   "cell_type": "code",
   "execution_count": null,
   "metadata": {},
   "outputs": [],
   "source": [
    "# Create the GridSearch estimator along with a parameter object containing the values to adjust\n",
    "from sklearn.model_selection import GridSearchCV\n",
    "param_grid = {'C': [1, 5, 10, 50],\n",
    "              'gamma': [0.0001, 0.0005, 0.001, 0.005]}\n",
    "grid4 = GridSearchCV(knn, param_grid, verbose=3)"
   ]
  },
  {
   "cell_type": "code",
   "execution_count": null,
   "metadata": {},
   "outputs": [],
   "source": [
    "grid4.estimator.get_params().keys()"
   ]
  },
  {
   "cell_type": "code",
   "execution_count": null,
   "metadata": {},
   "outputs": [],
   "source": [
    "# Train the model with GridSearch\n",
    "grid4.fit(X_train_scaled, y_train)"
   ]
  },
  {
   "cell_type": "code",
   "execution_count": null,
   "metadata": {},
   "outputs": [],
   "source": [
    "print(grid4.best_params_)\n",
    "print(grid4.best_score_)"
   ]
  },
  {
   "cell_type": "code",
   "execution_count": null,
   "metadata": {},
   "outputs": [],
   "source": []
  }
 ],
 "metadata": {
  "kernel_info": {
   "name": "dev"
  },
  "kernelspec": {
   "display_name": "Python 3",
   "language": "python",
   "name": "python3"
  },
  "language_info": {
   "codemirror_mode": {
    "name": "ipython",
    "version": 3
   },
   "file_extension": ".py",
   "mimetype": "text/x-python",
   "name": "python",
   "nbconvert_exporter": "python",
   "pygments_lexer": "ipython3",
   "version": "3.6.7"
  },
  "nteract": {
   "version": "0.12.3"
  }
 },
 "nbformat": 4,
 "nbformat_minor": 2
}
